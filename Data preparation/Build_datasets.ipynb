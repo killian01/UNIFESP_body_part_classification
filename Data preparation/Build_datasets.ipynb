{
 "cells": [
  {
   "cell_type": "code",
   "execution_count": 1,
   "metadata": {},
   "outputs": [],
   "source": [
    "import os\n",
    "import numpy as np\n",
    "import SimpleITK as sitk\n",
    "import sys\n",
    "import pandas as pd\n",
    "from itertools import chain\n",
    "import matplotlib.pyplot as plt\n",
    "\n",
    "from collections import Counter\n",
    "import h5py\n",
    "\n",
    "from sklearn.model_selection import StratifiedKFold, KFold"
   ]
  },
  {
   "cell_type": "markdown",
   "metadata": {},
   "source": [
    "# Import data"
   ]
  },
  {
   "cell_type": "code",
   "execution_count": 2,
   "metadata": {
    "scrolled": true,
    "tags": []
   },
   "outputs": [
    {
     "name": "stdout",
     "output_type": "stream",
     "text": [
      "912\n",
      "1738\n",
      "411\n",
      "743\n"
     ]
    }
   ],
   "source": [
    "# Find directory of all files\n",
    "cwd = os.path.normpath(os.getcwd() + os.sep + os.pardir)\n",
    "train_path = os.path.join(cwd, 'Data\\\\train')\n",
    "test_path = os.path.join(cwd, 'Data\\\\test')\n",
    "reader = sitk.ImageSeriesReader()\n",
    "\n",
    "train_path_nbr = os.listdir(train_path)\n",
    "\n",
    "train_file_list = []\n",
    "train_file_dict = {}\n",
    "for dir_ in train_path_nbr:\n",
    "    dir_to_exp = os.path.join(train_path, dir_)\n",
    "    for dirpath, subdirs, files in os.walk(dir_to_exp):\n",
    "        if files:\n",
    "            train_file_list.append((dirpath, files, dir_))\n",
    "            train_file_dict[dirpath] = files\n",
    "    \n",
    "test_path_nbr = os.listdir(test_path)\n",
    "test_file_list = []\n",
    "test_file_dict = {}\n",
    "for dir_ in test_path_nbr:\n",
    "    dir_to_exp = os.path.join(test_path, dir_)\n",
    "    for dirpath, subdirs, files in os.walk(dir_to_exp):\n",
    "        if files:\n",
    "            test_file_list.append((dirpath, files, dir_))\n",
    "            test_file_dict[dirpath] = files\n",
    "\n",
    "print(len(train_path_nbr))\n",
    "print(len(train_file_dict))\n",
    "\n",
    "print(len(test_path_nbr))\n",
    "print(len(test_file_dict))"
   ]
  },
  {
   "cell_type": "markdown",
   "metadata": {},
   "source": [
    "# Import labels"
   ]
  },
  {
   "cell_type": "code",
   "execution_count": 3,
   "metadata": {},
   "outputs": [
    {
     "name": "stdout",
     "output_type": "stream",
     "text": [
      "C:\\Users\\Killian\\Jupyter\\UNIFESP_body_part_classification\\Data\\train.csv\n"
     ]
    },
    {
     "data": {
      "text/html": [
       "<div>\n",
       "<style scoped>\n",
       "    .dataframe tbody tr th:only-of-type {\n",
       "        vertical-align: middle;\n",
       "    }\n",
       "\n",
       "    .dataframe tbody tr th {\n",
       "        vertical-align: top;\n",
       "    }\n",
       "\n",
       "    .dataframe thead th {\n",
       "        text-align: right;\n",
       "    }\n",
       "</style>\n",
       "<table border=\"1\" class=\"dataframe\">\n",
       "  <thead>\n",
       "    <tr style=\"text-align: right;\">\n",
       "      <th></th>\n",
       "      <th>SOPInstanceUID</th>\n",
       "      <th>Target</th>\n",
       "    </tr>\n",
       "  </thead>\n",
       "  <tbody>\n",
       "    <tr>\n",
       "      <th>0</th>\n",
       "      <td>1.2.826.0.1.3680043.8.498.10025629581362719970...</td>\n",
       "      <td>0</td>\n",
       "    </tr>\n",
       "    <tr>\n",
       "      <th>1</th>\n",
       "      <td>1.2.826.0.1.3680043.8.498.10036150326276641158...</td>\n",
       "      <td>15</td>\n",
       "    </tr>\n",
       "    <tr>\n",
       "      <th>2</th>\n",
       "      <td>1.2.826.0.1.3680043.8.498.10038426859954986240...</td>\n",
       "      <td>12</td>\n",
       "    </tr>\n",
       "    <tr>\n",
       "      <th>3</th>\n",
       "      <td>1.2.826.0.1.3680043.8.498.10050991192143676483...</td>\n",
       "      <td>14</td>\n",
       "    </tr>\n",
       "    <tr>\n",
       "      <th>4</th>\n",
       "      <td>1.2.826.0.1.3680043.8.498.10053309524595490852...</td>\n",
       "      <td>3</td>\n",
       "    </tr>\n",
       "    <tr>\n",
       "      <th>...</th>\n",
       "      <td>...</td>\n",
       "      <td>...</td>\n",
       "    </tr>\n",
       "    <tr>\n",
       "      <th>1733</th>\n",
       "      <td>1.2.826.0.1.3680043.8.498.99711016467406172920...</td>\n",
       "      <td>14</td>\n",
       "    </tr>\n",
       "    <tr>\n",
       "      <th>1734</th>\n",
       "      <td>1.2.826.0.1.3680043.8.498.99727280485333900933...</td>\n",
       "      <td>11</td>\n",
       "    </tr>\n",
       "    <tr>\n",
       "      <th>1735</th>\n",
       "      <td>1.2.826.0.1.3680043.8.498.99935008698914755885...</td>\n",
       "      <td>3</td>\n",
       "    </tr>\n",
       "    <tr>\n",
       "      <th>1736</th>\n",
       "      <td>1.2.826.0.1.3680043.8.498.99969671777553755311...</td>\n",
       "      <td>2</td>\n",
       "    </tr>\n",
       "    <tr>\n",
       "      <th>1737</th>\n",
       "      <td>1.2.826.0.1.3680043.8.498.99979421603039894766...</td>\n",
       "      <td>2</td>\n",
       "    </tr>\n",
       "  </tbody>\n",
       "</table>\n",
       "<p>1738 rows × 2 columns</p>\n",
       "</div>"
      ],
      "text/plain": [
       "                                         SOPInstanceUID Target\n",
       "0     1.2.826.0.1.3680043.8.498.10025629581362719970...     0 \n",
       "1     1.2.826.0.1.3680043.8.498.10036150326276641158...    15 \n",
       "2     1.2.826.0.1.3680043.8.498.10038426859954986240...    12 \n",
       "3     1.2.826.0.1.3680043.8.498.10050991192143676483...    14 \n",
       "4     1.2.826.0.1.3680043.8.498.10053309524595490852...     3 \n",
       "...                                                 ...    ...\n",
       "1733  1.2.826.0.1.3680043.8.498.99711016467406172920...    14 \n",
       "1734  1.2.826.0.1.3680043.8.498.99727280485333900933...    11 \n",
       "1735  1.2.826.0.1.3680043.8.498.99935008698914755885...     3 \n",
       "1736  1.2.826.0.1.3680043.8.498.99969671777553755311...     2 \n",
       "1737  1.2.826.0.1.3680043.8.498.99979421603039894766...     2 \n",
       "\n",
       "[1738 rows x 2 columns]"
      ]
     },
     "execution_count": 3,
     "metadata": {},
     "output_type": "execute_result"
    }
   ],
   "source": [
    "# Look at the labels of the images\n",
    "excel_labels_path = os.path.join(cwd, 'Data\\\\train.csv')\n",
    "print(excel_labels_path)\n",
    "df = pd.read_csv(excel_labels_path)\n",
    "df"
   ]
  },
  {
   "cell_type": "markdown",
   "metadata": {},
   "source": [
    "# Match directories and labels of training data"
   ]
  },
  {
   "cell_type": "code",
   "execution_count": 4,
   "metadata": {},
   "outputs": [
    {
     "name": "stdout",
     "output_type": "stream",
     "text": [
      "1606\n",
      "132\n",
      "1738\n",
      "['1005', [9, 21], 'C:\\\\Users\\\\Killian\\\\Jupyter\\\\UNIFESP_body_part_classification\\\\Data\\\\train\\\\1005\\\\1.2.826.0.1.3680043.8.498.61746690124118892528305417421864320307\\\\1.2.826.0.1.3680043.8.498.21605553573167556338806385057474412247\\\\1.2.826.0.1.3680043.8.498.75243637122822422802803455060201037925-c.dcm']\n"
     ]
    }
   ],
   "source": [
    "# Match directories to labels\n",
    "dir_unique_label_list = []\n",
    "dir_multi_label_list = []\n",
    "all_label_list = []\n",
    "for (dirpath, files, dir_) in train_file_list:\n",
    "    for file in files:\n",
    "        file_name = file[:-6]\n",
    "        label = df['Target'].loc[df['SOPInstanceUID'] == file_name]\n",
    "        labels = list(label.values)[0]\n",
    "        labels = labels.split(' ')\n",
    "        labels = [int(lab) for lab in labels if lab != '']\n",
    "        img_path = dirpath + '\\\\' + file\n",
    "        \n",
    "        if len(labels) == 1:\n",
    "            dir_unique_label_list.append([dir_, labels, img_path])\n",
    "        else:\n",
    "            dir_multi_label_list.append([dir_, labels, img_path])\n",
    "        all_label_list.append([dir_, labels, img_path])\n",
    "\n",
    "print(len(dir_unique_label_list))\n",
    "print(len(dir_multi_label_list))\n",
    "print(len(all_label_list))\n",
    "print(dir_multi_label_list[0])"
   ]
  },
  {
   "cell_type": "code",
   "execution_count": 5,
   "metadata": {},
   "outputs": [
    {
     "name": "stdout",
     "output_type": "stream",
     "text": [
      "743\n"
     ]
    }
   ],
   "source": [
    "test_data_list = []\n",
    "for (dirpath, files, dir_) in test_file_list:\n",
    "    for file in files:\n",
    "        file_name = file[:-6]\n",
    "        img_path = dirpath + '\\\\' + file\n",
    "        test_data_list.append([dir_, file, img_path])\n",
    "print(len(test_data_list))"
   ]
  },
  {
   "cell_type": "markdown",
   "metadata": {},
   "source": [
    "# Distribution of unique labels for cross validation"
   ]
  },
  {
   "cell_type": "code",
   "execution_count": 6,
   "metadata": {},
   "outputs": [
    {
     "data": {
      "image/png": "[encoded data removed]",
      "text/plain": [
       "<Figure size 720x360 with 1 Axes>"
      ]
     },
     "metadata": {
      "needs_background": "light"
     },
     "output_type": "display_data"
    },
    {
     "data": {
      "image/png": "[encoded data removed]",
      "text/plain": [
       "<Figure size 720x360 with 1 Axes>"
      ]
     },
     "metadata": {
      "needs_background": "light"
     },
     "output_type": "display_data"
    }
   ],
   "source": [
    "labels = [list_[1] for list_ in dir_unique_label_list]\n",
    "labels = list(map(int, chain.from_iterable(labels)))\n",
    "plt.figure(figsize=(10, 5))\n",
    "plt.hist(labels, bins=np.arange(0, 21, 1))\n",
    "plt.xticks(np.arange(0, 21, 1))\n",
    "plt.show()\n",
    "\n",
    "plt.figure(figsize=(10, 5))\n",
    "plt.hist(labels, bins=np.arange(0, 21, 1))\n",
    "plt.xticks(np.arange(0, 21, 1))\n",
    "plt.ylim(0, 150)\n",
    "plt.show()"
   ]
  },
  {
   "cell_type": "code",
   "execution_count": 7,
   "metadata": {},
   "outputs": [
    {
     "data": {
      "image/png": "[encoded data removed]",
      "text/plain": [
       "<Figure size 720x360 with 1 Axes>"
      ]
     },
     "metadata": {
      "needs_background": "light"
     },
     "output_type": "display_data"
    },
    {
     "data": {
      "image/png": "[encoded data removed]",
      "text/plain": [
       "<Figure size 720x360 with 1 Axes>"
      ]
     },
     "metadata": {
      "needs_background": "light"
     },
     "output_type": "display_data"
    }
   ],
   "source": [
    "# stratified distribution of unique labels\n",
    "skf = StratifiedKFold(n_splits=5)\n",
    "y = [list_[1] for list_ in dir_unique_label_list]\n",
    "y = np.array(y)\n",
    "\n",
    "X = [list_[2] for list_ in dir_unique_label_list]\n",
    "X = np.array(X)\n",
    "\n",
    "skf.get_n_splits(X, y)\n",
    "X_train_uniq_list = []\n",
    "X_valid_uniq_list = []\n",
    "y_train_uniq_list = []\n",
    "y_valid_uniq_list = []\n",
    "for train_index, valid_index in skf.split(X, y):\n",
    "    X_train, X_valid = X[train_index], X[valid_index]\n",
    "    y_train, y_valid = y[train_index], y[valid_index]\n",
    "    X_train_uniq_list.append(X_train)\n",
    "    X_valid_uniq_list.append(X_valid)\n",
    "    y_train_uniq_list.append(y_train)\n",
    "    y_valid_uniq_list.append(y_valid)\n",
    "    \n",
    "    \n",
    "plt.figure(figsize=(10, 5))\n",
    "plt.hist(y_train, bins=np.arange(0, 21, 1))\n",
    "plt.xticks(np.arange(0, 21, 1))\n",
    "plt.show()\n",
    "\n",
    "plt.figure(figsize=(10, 5))\n",
    "plt.hist(y_valid, bins=np.arange(0, 21, 1))\n",
    "plt.xticks(np.arange(0, 21, 1))\n",
    "plt.ylim(0, 150)\n",
    "plt.show()"
   ]
  },
  {
   "cell_type": "markdown",
   "metadata": {},
   "source": [
    "# Distribution of multilabels for cross validation"
   ]
  },
  {
   "cell_type": "code",
   "execution_count": 8,
   "metadata": {},
   "outputs": [
    {
     "data": {
      "image/png": "[encoded data removed]",
      "text/plain": [
       "<Figure size 720x360 with 1 Axes>"
      ]
     },
     "metadata": {
      "needs_background": "light"
     },
     "output_type": "display_data"
    }
   ],
   "source": [
    "labels = [list_[1] for list_ in dir_multi_label_list]\n",
    "labels = list(map(int, chain.from_iterable(labels)))\n",
    "plt.figure(figsize=(10, 5))\n",
    "plt.hist(labels, bins=np.arange(0, 21, 1))\n",
    "plt.xticks(np.arange(0, 21, 1))\n",
    "plt.show()\n"
   ]
  },
  {
   "cell_type": "code",
   "execution_count": 9,
   "metadata": {},
   "outputs": [
    {
     "name": "stderr",
     "output_type": "stream",
     "text": [
      "C:\\Users\\Killian\\anaconda3\\envs\\python37\\lib\\site-packages\\ipykernel_launcher.py:4: VisibleDeprecationWarning: Creating an ndarray from ragged nested sequences (which is a list-or-tuple of lists-or-tuples-or ndarrays with different lengths or shapes) is deprecated. If you meant to do this, you must specify 'dtype=object' when creating the ndarray\n",
      "  after removing the cwd from sys.path.\n"
     ]
    }
   ],
   "source": [
    "# stratified distribution of unique labels\n",
    "kf = KFold(n_splits=5)\n",
    "y = [list_[1] for list_ in dir_multi_label_list]\n",
    "y = np.array(y)\n",
    "\n",
    "X = [list_[2] for list_ in dir_multi_label_list]\n",
    "X = np.array(X)\n",
    "\n",
    "kf.get_n_splits(X, y)\n",
    "\n",
    "X_train_mlti_list = []\n",
    "X_valid_mlti_list = []\n",
    "y_valid_mlti_list = []\n",
    "y_train_mlti_list = []\n",
    "for train_index, valid_index in kf.split(X, y):\n",
    "    X_train, X_valid = X[train_index], X[valid_index]\n",
    "    y_train, y_valid = y[train_index], y[valid_index]\n",
    "    X_train_mlti_list.append(X_train)\n",
    "    X_valid_mlti_list.append(X_valid)\n",
    "    y_train_mlti_list.append(y_train)\n",
    "    y_valid_mlti_list.append(y_valid)\n"
   ]
  },
  {
   "cell_type": "markdown",
   "metadata": {},
   "source": [
    "# Saving training data for 5-folds cross validation"
   ]
  },
  {
   "cell_type": "code",
   "execution_count": 95,
   "metadata": {},
   "outputs": [
    {
     "name": "stdout",
     "output_type": "stream",
     "text": [
      "(27,)\n",
      "(322, 1)\n",
      "(27,)\n",
      "(321, 1)\n",
      "(26,)\n",
      "(321, 1)\n",
      "(26,)\n",
      "(321, 1)\n",
      "(26,)\n",
      "(321, 1)\n"
     ]
    }
   ],
   "source": [
    "saving_path = cwd + '\\Data'\n",
    "\n",
    "for fold in range(5):\n",
    "    print(y_valid_mlti_list[fold].shape)\n",
    "    print(y_valid_uniq_list[fold].shape)\n",
    "    X_train = np.concatenate((X_train_mlti_list[fold], X_train_uniq_list[fold]), axis=0)                      \n",
    "    X_valid = np.concatenate((X_valid_mlti_list[fold], X_valid_uniq_list[fold]), axis=0) \n",
    "    y_valid = np.concatenate((y_valid_mlti_list[fold], np.reshape(y_valid_uniq_list[fold], -1)), axis=0) \n",
    "    y_train = np.concatenate((y_train_mlti_list[fold], np.reshape(y_train_uniq_list[fold], -1)), axis=0) \n",
    "\n",
    "    \n",
    "    X_train = [dir_.encode(\"utf-8\") for dir_ in X_train]\n",
    "    X_valid = [dir_.encode(\"utf-8\") for dir_ in X_valid]\n",
    "    y_train = [str(lab).encode(\"utf-8\") for lab in y_train]\n",
    "    y_valid = [str(lab).encode(\"utf-8\") for lab in y_valid]\n",
    "    \n",
    "    Folder = h5py.File(saving_path + \"/Folder_\" + str(fold) + \".hdf5\", \"w\")\n",
    "\n",
    "    X_train = Folder.create_dataset(\"X_train\", data=np.asarray(X_train))\n",
    "    X_valid = Folder.create_dataset(\"X_valid\", data=np.asarray(X_valid))\n",
    "    y_train = Folder.create_dataset(\"y_train\",  data=np.asarray(y_train))\n",
    "    y_valid = Folder.create_dataset(\"y_valid\",  data=np.asarray(y_valid))\n",
    "    \n",
    "    Folder.close()\n"
   ]
  },
  {
   "cell_type": "markdown",
   "metadata": {},
   "source": [
    "# Save training data paths/labels as hdf5"
   ]
  },
  {
   "cell_type": "code",
   "execution_count": 12,
   "metadata": {},
   "outputs": [],
   "source": [
    "df = pd.DataFrame(all_label_list, columns=['Folder nbr', 'label', 'dir'])\n",
    "labels = list(df.label)\n",
    "directory = list(df.dir)\n",
    "saving_path = cwd + '\\Data'\n",
    "\n",
    "Folder = h5py.File(saving_path + \"/train_data.hdf5\", \"w\")\n",
    "directory = [dir_.encode(\"utf-8\") for dir_ in directory]\n",
    "labels = [str(lab).encode(\"utf-8\") for lab in labels]\n",
    "\n",
    "\n",
    "directories = Folder.create_dataset(\"Directories\", data=np.asarray(directory))\n",
    "labels = Folder.create_dataset(\"Labels\",  data=np.asarray(labels))\n",
    "Folder.close()"
   ]
  },
  {
   "cell_type": "markdown",
   "metadata": {},
   "source": [
    "# Save test data as hdf5"
   ]
  },
  {
   "cell_type": "code",
   "execution_count": 43,
   "metadata": {},
   "outputs": [
    {
     "data": {
      "text/html": [
       "<div>\n",
       "<style scoped>\n",
       "    .dataframe tbody tr th:only-of-type {\n",
       "        vertical-align: middle;\n",
       "    }\n",
       "\n",
       "    .dataframe tbody tr th {\n",
       "        vertical-align: top;\n",
       "    }\n",
       "\n",
       "    .dataframe thead th {\n",
       "        text-align: right;\n",
       "    }\n",
       "</style>\n",
       "<table border=\"1\" class=\"dataframe\">\n",
       "  <thead>\n",
       "    <tr style=\"text-align: right;\">\n",
       "      <th></th>\n",
       "      <th>Folder nbr</th>\n",
       "      <th>UID</th>\n",
       "      <th>dir</th>\n",
       "    </tr>\n",
       "  </thead>\n",
       "  <tbody>\n",
       "    <tr>\n",
       "      <th>0</th>\n",
       "      <td>100</td>\n",
       "      <td>1.2.826.0.1.3680043.8.498.88649350262556129168...</td>\n",
       "      <td>C:\\Users\\Killian\\Jupyter\\UNIFESP_body_part_cla...</td>\n",
       "    </tr>\n",
       "    <tr>\n",
       "      <th>1</th>\n",
       "      <td>100</td>\n",
       "      <td>1.2.826.0.1.3680043.8.498.94130497688965633824...</td>\n",
       "      <td>C:\\Users\\Killian\\Jupyter\\UNIFESP_body_part_cla...</td>\n",
       "    </tr>\n",
       "    <tr>\n",
       "      <th>2</th>\n",
       "      <td>100</td>\n",
       "      <td>1.2.826.0.1.3680043.8.498.34619370857497917679...</td>\n",
       "      <td>C:\\Users\\Killian\\Jupyter\\UNIFESP_body_part_cla...</td>\n",
       "    </tr>\n",
       "    <tr>\n",
       "      <th>3</th>\n",
       "      <td>100</td>\n",
       "      <td>1.2.826.0.1.3680043.8.498.71110032779393208873...</td>\n",
       "      <td>C:\\Users\\Killian\\Jupyter\\UNIFESP_body_part_cla...</td>\n",
       "    </tr>\n",
       "    <tr>\n",
       "      <th>4</th>\n",
       "      <td>1001</td>\n",
       "      <td>1.2.826.0.1.3680043.8.498.11011430294387286375...</td>\n",
       "      <td>C:\\Users\\Killian\\Jupyter\\UNIFESP_body_part_cla...</td>\n",
       "    </tr>\n",
       "    <tr>\n",
       "      <th>...</th>\n",
       "      <td>...</td>\n",
       "      <td>...</td>\n",
       "      <td>...</td>\n",
       "    </tr>\n",
       "    <tr>\n",
       "      <th>738</th>\n",
       "      <td>99</td>\n",
       "      <td>1.2.826.0.1.3680043.8.498.31290186664002299165...</td>\n",
       "      <td>C:\\Users\\Killian\\Jupyter\\UNIFESP_body_part_cla...</td>\n",
       "    </tr>\n",
       "    <tr>\n",
       "      <th>739</th>\n",
       "      <td>991</td>\n",
       "      <td>1.2.826.0.1.3680043.8.498.70719726337678250017...</td>\n",
       "      <td>C:\\Users\\Killian\\Jupyter\\UNIFESP_body_part_cla...</td>\n",
       "    </tr>\n",
       "    <tr>\n",
       "      <th>740</th>\n",
       "      <td>995</td>\n",
       "      <td>1.2.826.0.1.3680043.8.498.95782775733904328949...</td>\n",
       "      <td>C:\\Users\\Killian\\Jupyter\\UNIFESP_body_part_cla...</td>\n",
       "    </tr>\n",
       "    <tr>\n",
       "      <th>741</th>\n",
       "      <td>998</td>\n",
       "      <td>1.2.826.0.1.3680043.8.498.10394589813208835226...</td>\n",
       "      <td>C:\\Users\\Killian\\Jupyter\\UNIFESP_body_part_cla...</td>\n",
       "    </tr>\n",
       "    <tr>\n",
       "      <th>742</th>\n",
       "      <td>998</td>\n",
       "      <td>1.2.826.0.1.3680043.8.498.57290876017047061779...</td>\n",
       "      <td>C:\\Users\\Killian\\Jupyter\\UNIFESP_body_part_cla...</td>\n",
       "    </tr>\n",
       "  </tbody>\n",
       "</table>\n",
       "<p>743 rows × 3 columns</p>\n",
       "</div>"
      ],
      "text/plain": [
       "    Folder nbr                                                UID  \\\n",
       "0          100  1.2.826.0.1.3680043.8.498.88649350262556129168...   \n",
       "1          100  1.2.826.0.1.3680043.8.498.94130497688965633824...   \n",
       "2          100  1.2.826.0.1.3680043.8.498.34619370857497917679...   \n",
       "3          100  1.2.826.0.1.3680043.8.498.71110032779393208873...   \n",
       "4         1001  1.2.826.0.1.3680043.8.498.11011430294387286375...   \n",
       "..         ...                                                ...   \n",
       "738         99  1.2.826.0.1.3680043.8.498.31290186664002299165...   \n",
       "739        991  1.2.826.0.1.3680043.8.498.70719726337678250017...   \n",
       "740        995  1.2.826.0.1.3680043.8.498.95782775733904328949...   \n",
       "741        998  1.2.826.0.1.3680043.8.498.10394589813208835226...   \n",
       "742        998  1.2.826.0.1.3680043.8.498.57290876017047061779...   \n",
       "\n",
       "                                                   dir  \n",
       "0    C:\\Users\\Killian\\Jupyter\\UNIFESP_body_part_cla...  \n",
       "1    C:\\Users\\Killian\\Jupyter\\UNIFESP_body_part_cla...  \n",
       "2    C:\\Users\\Killian\\Jupyter\\UNIFESP_body_part_cla...  \n",
       "3    C:\\Users\\Killian\\Jupyter\\UNIFESP_body_part_cla...  \n",
       "4    C:\\Users\\Killian\\Jupyter\\UNIFESP_body_part_cla...  \n",
       "..                                                 ...  \n",
       "738  C:\\Users\\Killian\\Jupyter\\UNIFESP_body_part_cla...  \n",
       "739  C:\\Users\\Killian\\Jupyter\\UNIFESP_body_part_cla...  \n",
       "740  C:\\Users\\Killian\\Jupyter\\UNIFESP_body_part_cla...  \n",
       "741  C:\\Users\\Killian\\Jupyter\\UNIFESP_body_part_cla...  \n",
       "742  C:\\Users\\Killian\\Jupyter\\UNIFESP_body_part_cla...  \n",
       "\n",
       "[743 rows x 3 columns]"
      ]
     },
     "execution_count": 43,
     "metadata": {},
     "output_type": "execute_result"
    }
   ],
   "source": [
    "df_test = pd.DataFrame(test_data_list, columns=['Folder nbr', 'UID', 'dir'])\n",
    "UIDS = list(df_test.UID)\n",
    "directories = list(df_test.dir)\n",
    "df_test"
   ]
  },
  {
   "cell_type": "code",
   "execution_count": 44,
   "metadata": {},
   "outputs": [],
   "source": [
    "saving_path = cwd + '\\Data'\n",
    "\n",
    "Folder = h5py.File(saving_path + \"/test_data.hdf5\", \"w\")\n",
    "directories = [dir_.encode(\"utf-8\") for dir_ in directories]\n",
    "UIDS = [str(elem).encode(\"utf-8\") for elem in UIDS]\n",
    "\n",
    "directories = Folder.create_dataset(\"Directories\", data=np.asarray(directories))\n",
    "UIDS = Folder.create_dataset(\"UIDS\",  data=np.asarray(UIDS))\n",
    "Folder.close()"
   ]
  },
  {
   "cell_type": "code",
   "execution_count": 38,
   "metadata": {},
   "outputs": [],
   "source": [
    "# import ast\n",
    "# Folder = h5py.File(saving_path + \"/data.hdf5\", \"r+\")\n",
    "# directories = np.char.decode(Folder[\"/Directories\"][()])\n",
    "# labels = np.char.decode(Folder[\"/Labels\"][()])\n",
    "# # directories = [ast.literal_eval(dict_iter.decode('utf-8')) for dict_iter in directories]\n",
    "\n",
    "# directories = np.char.decode(CV_4_Folder[\"/Train_images\"][()])\n",
    "# directories = [ast.literal_eval(dict_iter.decode('utf-8')) for dict_iter in directories]\n",
    "# Folder.close()"
   ]
  }
 ],
 "metadata": {
  "kernelspec": {
   "display_name": "Python 3",
   "language": "python",
   "name": "python3"
  },
  "language_info": {
   "codemirror_mode": {
    "name": "ipython",
    "version": 3
   },
   "file_extension": ".py",
   "mimetype": "text/x-python",
   "name": "python",
   "nbconvert_exporter": "python",
   "pygments_lexer": "ipython3",
   "version": "3.7.9"
  }
 },
 "nbformat": 4,
 "nbformat_minor": 4
}
