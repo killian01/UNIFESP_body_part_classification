{
 "cells": [
  {
   "cell_type": "code",
   "execution_count": 53,
   "metadata": {},
   "outputs": [],
   "source": [
    "import os\n",
    "import numpy as np\n",
    "import SimpleITK as sitk\n",
    "import sys\n",
    "import pandas as pd\n",
    "from itertools import chain\n",
    "import matplotlib.pyplot as plt\n",
    "\n",
    "from collections import Counter\n",
    "import h5py\n",
    "\n",
    "from sklearn.model_selection import StratifiedKFold"
   ]
  },
  {
   "cell_type": "markdown",
   "metadata": {},
   "source": [
    "# Import data"
   ]
  },
  {
   "cell_type": "code",
   "execution_count": 13,
   "metadata": {
    "scrolled": true,
    "tags": []
   },
   "outputs": [
    {
     "name": "stdout",
     "output_type": "stream",
     "text": [
      "913\n",
      "1740\n"
     ]
    }
   ],
   "source": [
    "# Find directory of all files\n",
    "cwd = os.path.normpath(os.getcwd() + os.sep + os.pardir)\n",
    "wdpath = os.path.join(cwd, 'Data\\\\train_')\n",
    "reader = sitk.ImageSeriesReader()\n",
    "\n",
    "count = 0\n",
    "path_nbr = os.listdir(wdpath)\n",
    "\n",
    "file_list = []\n",
    "file_dict = {}\n",
    "for dir_ in path_nbr:\n",
    "    dir_to_exp = os.path.join(wdpath, dir_)\n",
    "    for dirpath, subdirs, files in os.walk(dir_to_exp):\n",
    "        if files:\n",
    "            file_list.append((dirpath, files, dir_))\n",
    "            file_dict[dirpath] = files\n",
    "\n",
    "print(len(path_nbr))\n",
    "print(len(file_dict))"
   ]
  },
  {
   "cell_type": "markdown",
   "metadata": {},
   "source": [
    "# Import labels"
   ]
  },
  {
   "cell_type": "code",
   "execution_count": 16,
   "metadata": {},
   "outputs": [
    {
     "name": "stdout",
     "output_type": "stream",
     "text": [
      "C:\\Users\\Killian\\Jupyter\\UNIFESP_body_part_classification\\Data\\train.csv\n"
     ]
    },
    {
     "data": {
      "text/html": [
       "<div>\n",
       "<style scoped>\n",
       "    .dataframe tbody tr th:only-of-type {\n",
       "        vertical-align: middle;\n",
       "    }\n",
       "\n",
       "    .dataframe tbody tr th {\n",
       "        vertical-align: top;\n",
       "    }\n",
       "\n",
       "    .dataframe thead th {\n",
       "        text-align: right;\n",
       "    }\n",
       "</style>\n",
       "<table border=\"1\" class=\"dataframe\">\n",
       "  <thead>\n",
       "    <tr style=\"text-align: right;\">\n",
       "      <th></th>\n",
       "      <th>SOPInstanceUID</th>\n",
       "      <th>Target</th>\n",
       "    </tr>\n",
       "  </thead>\n",
       "  <tbody>\n",
       "    <tr>\n",
       "      <th>0</th>\n",
       "      <td>1.2.826.0.1.3680043.8.498.10025629581362719970...</td>\n",
       "      <td>0</td>\n",
       "    </tr>\n",
       "    <tr>\n",
       "      <th>1</th>\n",
       "      <td>1.2.826.0.1.3680043.8.498.10036150326276641158...</td>\n",
       "      <td>15</td>\n",
       "    </tr>\n",
       "    <tr>\n",
       "      <th>2</th>\n",
       "      <td>1.2.826.0.1.3680043.8.498.10038426859954986240...</td>\n",
       "      <td>12</td>\n",
       "    </tr>\n",
       "    <tr>\n",
       "      <th>3</th>\n",
       "      <td>1.2.826.0.1.3680043.8.498.10050991192143676483...</td>\n",
       "      <td>14</td>\n",
       "    </tr>\n",
       "    <tr>\n",
       "      <th>4</th>\n",
       "      <td>1.2.826.0.1.3680043.8.498.10053309524595490852...</td>\n",
       "      <td>3</td>\n",
       "    </tr>\n",
       "    <tr>\n",
       "      <th>...</th>\n",
       "      <td>...</td>\n",
       "      <td>...</td>\n",
       "    </tr>\n",
       "    <tr>\n",
       "      <th>1733</th>\n",
       "      <td>1.2.826.0.1.3680043.8.498.99711016467406172920...</td>\n",
       "      <td>14</td>\n",
       "    </tr>\n",
       "    <tr>\n",
       "      <th>1734</th>\n",
       "      <td>1.2.826.0.1.3680043.8.498.99727280485333900933...</td>\n",
       "      <td>11</td>\n",
       "    </tr>\n",
       "    <tr>\n",
       "      <th>1735</th>\n",
       "      <td>1.2.826.0.1.3680043.8.498.99935008698914755885...</td>\n",
       "      <td>3</td>\n",
       "    </tr>\n",
       "    <tr>\n",
       "      <th>1736</th>\n",
       "      <td>1.2.826.0.1.3680043.8.498.99969671777553755311...</td>\n",
       "      <td>2</td>\n",
       "    </tr>\n",
       "    <tr>\n",
       "      <th>1737</th>\n",
       "      <td>1.2.826.0.1.3680043.8.498.99979421603039894766...</td>\n",
       "      <td>2</td>\n",
       "    </tr>\n",
       "  </tbody>\n",
       "</table>\n",
       "<p>1738 rows × 2 columns</p>\n",
       "</div>"
      ],
      "text/plain": [
       "                                         SOPInstanceUID Target\n",
       "0     1.2.826.0.1.3680043.8.498.10025629581362719970...     0 \n",
       "1     1.2.826.0.1.3680043.8.498.10036150326276641158...    15 \n",
       "2     1.2.826.0.1.3680043.8.498.10038426859954986240...    12 \n",
       "3     1.2.826.0.1.3680043.8.498.10050991192143676483...    14 \n",
       "4     1.2.826.0.1.3680043.8.498.10053309524595490852...     3 \n",
       "...                                                 ...    ...\n",
       "1733  1.2.826.0.1.3680043.8.498.99711016467406172920...    14 \n",
       "1734  1.2.826.0.1.3680043.8.498.99727280485333900933...    11 \n",
       "1735  1.2.826.0.1.3680043.8.498.99935008698914755885...     3 \n",
       "1736  1.2.826.0.1.3680043.8.498.99969671777553755311...     2 \n",
       "1737  1.2.826.0.1.3680043.8.498.99979421603039894766...     2 \n",
       "\n",
       "[1738 rows x 2 columns]"
      ]
     },
     "execution_count": 16,
     "metadata": {},
     "output_type": "execute_result"
    }
   ],
   "source": [
    "# Look at the labels of the images\n",
    "excel_labels_path = os.path.join(cwd, 'Data\\\\train.csv')\n",
    "print(excel_labels_path)\n",
    "df = pd.read_csv(excel_labels_path)\n",
    "df"
   ]
  },
  {
   "cell_type": "markdown",
   "metadata": {},
   "source": [
    "# Match dir and labels"
   ]
  },
  {
   "cell_type": "code",
   "execution_count": 66,
   "metadata": {},
   "outputs": [
    {
     "name": "stdout",
     "output_type": "stream",
     "text": [
      "1608\n",
      "132\n",
      "1740\n",
      "['1005', [9, 21], 'C:\\\\Users\\\\Killian\\\\Jupyter\\\\UNIFESP_body_part_classification\\\\Data\\\\train_\\\\1005\\\\1.2.826.0.1.3680043.8.498.61746690124118892528305417421864320307\\\\1.2.826.0.1.3680043.8.498.21605553573167556338806385057474412247\\\\1.2.826.0.1.3680043.8.498.75243637122822422802803455060201037925-c.dcm']\n"
     ]
    }
   ],
   "source": [
    "# Match directories to labels\n",
    "dir_unique_label_list = []\n",
    "dir_multi_label_list = []\n",
    "all_label_list = []\n",
    "for (dirpath, files, dir_) in file_list:\n",
    "    for file in files:\n",
    "        file_name = file[:-6]\n",
    "        label = df['Target'].loc[df['SOPInstanceUID'] == file_name]\n",
    "        labels = list(label.values)[0]\n",
    "        labels = labels.split(' ')\n",
    "        labels = [int(lab) for lab in labels if lab != '']\n",
    "        img_path = dirpath + '\\\\' + file\n",
    "        \n",
    "        if len(labels) == 1:\n",
    "            dir_unique_label_list.append([dir_, labels, img_path])\n",
    "        else:\n",
    "            dir_multi_label_list.append([dir_, labels, img_path])\n",
    "        all_label_list.append([dir_, labels, img_path])\n",
    "#         print(file)\n",
    "#         print(dirpath)\n",
    "#         print(dir_)\n",
    "#         print(labels)\n",
    "#         print(img_path)\n",
    "\n",
    "print(len(dir_unique_label_list))\n",
    "print(len(dir_multi_label_list))\n",
    "print(len(all_label_list))\n",
    "print(dir_multi_label_list[0])"
   ]
  },
  {
   "cell_type": "markdown",
   "metadata": {},
   "source": [
    "# Distribution of unique labels"
   ]
  },
  {
   "cell_type": "code",
   "execution_count": 49,
   "metadata": {},
   "outputs": [
    {
     "data": {
      "image/png": "[encoded data removed]",
      "text/plain": [
       "<Figure size 720x360 with 1 Axes>"
      ]
     },
     "metadata": {
      "needs_background": "light"
     },
     "output_type": "display_data"
    },
    {
     "data": {
      "image/png": "[encoded data removed]",
      "text/plain": [
       "<Figure size 720x360 with 1 Axes>"
      ]
     },
     "metadata": {
      "needs_background": "light"
     },
     "output_type": "display_data"
    }
   ],
   "source": [
    "labels = [list_[1] for list_ in dir_unique_label_list]\n",
    "labels = list(map(int, chain.from_iterable(labels)))\n",
    "plt.figure(figsize=(10, 5))\n",
    "plt.hist(labels, bins=np.arange(0, 21, 1))\n",
    "plt.xticks(np.arange(0, 21, 1))\n",
    "plt.show()\n",
    "\n",
    "plt.figure(figsize=(10, 5))\n",
    "plt.hist(labels, bins=np.arange(0, 21, 1))\n",
    "plt.xticks(np.arange(0, 21, 1))\n",
    "plt.ylim(0, 150)\n",
    "plt.show()"
   ]
  },
  {
   "cell_type": "markdown",
   "metadata": {},
   "source": [
    "# Distribution of multilabels"
   ]
  },
  {
   "cell_type": "code",
   "execution_count": 50,
   "metadata": {},
   "outputs": [
    {
     "data": {
      "image/png": "[encoded data removed]",
      "text/plain": [
       "<Figure size 720x360 with 1 Axes>"
      ]
     },
     "metadata": {
      "needs_background": "light"
     },
     "output_type": "display_data"
    }
   ],
   "source": [
    "labels = [list_[1] for list_ in dir_multi_label_list]\n",
    "labels = list(map(int, chain.from_iterable(labels)))\n",
    "plt.figure(figsize=(10, 5))\n",
    "plt.hist(labels, bins=np.arange(0, 21, 1))\n",
    "plt.xticks(np.arange(0, 21, 1))\n",
    "plt.show()\n"
   ]
  },
  {
   "cell_type": "markdown",
   "metadata": {},
   "source": [
    "# Save data paths/labels as hdf5"
   ]
  },
  {
   "cell_type": "code",
   "execution_count": 97,
   "metadata": {},
   "outputs": [],
   "source": [
    "df = pd.DataFrame(all_label_list, columns=['nbr', 'label', 'dir'])\n",
    "labels = list(dir_unique_label_df.label)\n",
    "directory = list(dir_unique_label_df.dir)\n",
    "saving_path = cwd + '\\Data'\n",
    "\n",
    "\n",
    "Folder = h5py.File(saving_path + \"/data.hdf5\", \"w\")\n",
    "directory = [dir_.encode(\"utf-8\") for dir_ in directory]\n",
    "\n",
    "directories = Folder.create_dataset(\"Directories\", data=np.asarray(directory))\n",
    "labels = Folder.create_dataset(\"Labels\",  data=np.asarray(labels).astype('bytes'))\n",
    "Folder.close()\n",
    "# patient_train = Folder.create_dataset(\"Test_patients\",  data=np.asarray(test_patient_enc))\n"
   ]
  },
  {
   "cell_type": "code",
   "execution_count": 96,
   "metadata": {},
   "outputs": [],
   "source": [
    "Folder.close()"
   ]
  }
 ],
 "metadata": {
  "kernelspec": {
   "display_name": "Python 3",
   "language": "python",
   "name": "python3"
  },
  "language_info": {
   "codemirror_mode": {
    "name": "ipython",
    "version": 3
   },
   "file_extension": ".py",
   "mimetype": "text/x-python",
   "name": "python",
   "nbconvert_exporter": "python",
   "pygments_lexer": "ipython3",
   "version": "3.7.9"
  }
 },
 "nbformat": 4,
 "nbformat_minor": 4
}
